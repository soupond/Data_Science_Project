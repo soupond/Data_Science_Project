{
  "cells": [
    {
      "cell_type": "markdown",
      "metadata": {
        "id": "otbSh1PboTOw"
      },
      "source": [
        "#  Dubizzle Data Analysis & Price Prediction\n",
        "\n",
        "##  Objective\n",
        "\n",
        "The goal of this task is to demonstrate end-to-end data wrangling, feature engineering, exploratory data analysis (EDA), and predictive modeling using a dataset of real estate properties. The key objectives are:\n",
        "\n",
        "- Clean real estate listings data.\n",
        "- Engineer useful features to support analysis and modeling.\n",
        "- Explore trends, correlations, and pricing behavior across regions.\n",
        "- Build regression models to predict property prices (in OMR).\n",
        "- Evaluate model performance and discuss insights.\n"
      ]
    },
    {
      "cell_type": "markdown",
      "metadata": {
        "id": "dDBhWy9TocZk"
      },
      "source": [
        "##  Data Cleaning & Integration\n",
        "\n",
        "Before any analysis or modeling, the dataset must be cleaned and preprocessed. This includes:\n",
        "\n",
        "- Handling missing values\n",
        "- Removing duplicates\n",
        "- Ensuring consistent column formatting\n",
        "- Standardizing column names and data types\n",
        "\n",
        "These steps ensure the data is reliable and ready for analysis.\n"
      ]
    },
    {
      "cell_type": "markdown",
      "metadata": {
        "id": "IMb0hUCVj8mp"
      },
      "source": [
        "\n",
        "\n",
        "**Section 1: Data Cleaning & Wrangling**\n",
        "\n"
      ]
    },
    {
      "cell_type": "code",
      "execution_count": 3,
      "metadata": {
        "id": "IXEm9iqBkFN7"
      },
      "outputs": [
        {
          "name": "stderr",
          "output_type": "stream",
          "text": [
            "c:\\Python\\Python311\\Lib\\site-packages\\seaborn\\_statistics.py:32: UserWarning: A NumPy version >=1.25.2 and <2.6.0 is required for this version of SciPy (detected version 1.24.3)\n",
            "  from scipy.stats import gaussian_kde\n"
          ]
        },
        {
          "ename": "ImportError",
          "evalue": "\n\nIMPORTANT: PLEASE READ THIS FOR ADVICE ON HOW TO SOLVE THIS ISSUE!\n\nImporting the numpy C-extensions failed. This error can happen for\nmany reasons, often due to issues with your setup or how NumPy was\ninstalled.\n\nWe have compiled some common reasons and troubleshooting tips at:\n\n    https://numpy.org/devdocs/user/troubleshooting-importerror.html\n\nPlease note and check the following:\n\n  * The Python version is: Python3.11 from \"c:\\Python\\Python311\\python.exe\"\n  * The NumPy version is: \"1.24.3\"\n\nand make sure that they are the versions you expect.\nPlease carefully study the documentation linked above for further help.\n\nOriginal error was: DLL load failed while importing _multiarray_umath: The specified module could not be found.\n",
          "output_type": "error",
          "traceback": [
            "\u001b[31m---------------------------------------------------------------------------\u001b[39m",
            "\u001b[31mImportError\u001b[39m                               Traceback (most recent call last)",
            "\u001b[36mFile \u001b[39m\u001b[32mc:\\Python\\Python311\\Lib\\site-packages\\numpy\\_core\\__init__.py:22\u001b[39m\n\u001b[32m     21\u001b[39m \u001b[38;5;28;01mtry\u001b[39;00m:\n\u001b[32m---> \u001b[39m\u001b[32m22\u001b[39m     \u001b[38;5;28;01mfrom\u001b[39;00m\u001b[38;5;250m \u001b[39m\u001b[34;01m.\u001b[39;00m\u001b[38;5;250m \u001b[39m\u001b[38;5;28;01mimport\u001b[39;00m multiarray\n\u001b[32m     23\u001b[39m \u001b[38;5;28;01mexcept\u001b[39;00m \u001b[38;5;167;01mImportError\u001b[39;00m \u001b[38;5;28;01mas\u001b[39;00m exc:\n",
            "\u001b[36mFile \u001b[39m\u001b[32mc:\\Python\\Python311\\Lib\\site-packages\\numpy\\_core\\multiarray.py:11\u001b[39m\n\u001b[32m      9\u001b[39m \u001b[38;5;28;01mimport\u001b[39;00m\u001b[38;5;250m \u001b[39m\u001b[34;01mfunctools\u001b[39;00m\n\u001b[32m---> \u001b[39m\u001b[32m11\u001b[39m \u001b[38;5;28;01mfrom\u001b[39;00m\u001b[38;5;250m \u001b[39m\u001b[34;01m.\u001b[39;00m\u001b[38;5;250m \u001b[39m\u001b[38;5;28;01mimport\u001b[39;00m _multiarray_umath, overrides\n\u001b[32m     12\u001b[39m \u001b[38;5;28;01mfrom\u001b[39;00m\u001b[38;5;250m \u001b[39m\u001b[34;01m.\u001b[39;00m\u001b[34;01m_multiarray_umath\u001b[39;00m\u001b[38;5;250m \u001b[39m\u001b[38;5;28;01mimport\u001b[39;00m *  \u001b[38;5;66;03m# noqa: F403\u001b[39;00m\n",
            "\u001b[31mImportError\u001b[39m: DLL load failed while importing _multiarray_umath: The specified module could not be found.",
            "\nThe above exception was the direct cause of the following exception:\n",
            "\u001b[31mImportError\u001b[39m                               Traceback (most recent call last)",
            "\u001b[36mCell\u001b[39m\u001b[36m \u001b[39m\u001b[32mIn[3]\u001b[39m\u001b[32m, line 5\u001b[39m\n\u001b[32m      3\u001b[39m \u001b[38;5;28;01mimport\u001b[39;00m\u001b[38;5;250m \u001b[39m\u001b[34;01mmatplotlib\u001b[39;00m\u001b[34;01m.\u001b[39;00m\u001b[34;01mpyplot\u001b[39;00m\u001b[38;5;250m \u001b[39m\u001b[38;5;28;01mas\u001b[39;00m\u001b[38;5;250m \u001b[39m\u001b[34;01mplt\u001b[39;00m\n\u001b[32m      4\u001b[39m \u001b[38;5;28;01mimport\u001b[39;00m\u001b[38;5;250m \u001b[39m\u001b[34;01mseaborn\u001b[39;00m\u001b[38;5;250m \u001b[39m\u001b[38;5;28;01mas\u001b[39;00m\u001b[38;5;250m \u001b[39m\u001b[34;01msns\u001b[39;00m\n\u001b[32m----> \u001b[39m\u001b[32m5\u001b[39m \u001b[38;5;28;01mfrom\u001b[39;00m\u001b[38;5;250m \u001b[39m\u001b[34;01msklearn\u001b[39;00m\u001b[34;01m.\u001b[39;00m\u001b[34;01mcompose\u001b[39;00m\u001b[38;5;250m \u001b[39m\u001b[38;5;28;01mimport\u001b[39;00m ColumnTransformer\n\u001b[32m      6\u001b[39m \u001b[38;5;28;01mfrom\u001b[39;00m\u001b[38;5;250m \u001b[39m\u001b[34;01msklearn\u001b[39;00m\u001b[34;01m.\u001b[39;00m\u001b[34;01mpreprocessing\u001b[39;00m\u001b[38;5;250m \u001b[39m\u001b[38;5;28;01mimport\u001b[39;00m StandardScaler, OneHotEncoder\n\u001b[32m      7\u001b[39m \u001b[38;5;28;01mfrom\u001b[39;00m\u001b[38;5;250m \u001b[39m\u001b[34;01msklearn\u001b[39;00m\u001b[34;01m.\u001b[39;00m\u001b[34;01mlinear_model\u001b[39;00m\u001b[38;5;250m \u001b[39m\u001b[38;5;28;01mimport\u001b[39;00m LinearRegression\n",
            "\u001b[36mFile \u001b[39m\u001b[32mc:\\Python\\Python311\\Lib\\site-packages\\sklearn\\__init__.py:73\u001b[39m\n\u001b[32m     62\u001b[39m \u001b[38;5;66;03m# `_distributor_init` allows distributors to run custom init code.\u001b[39;00m\n\u001b[32m     63\u001b[39m \u001b[38;5;66;03m# For instance, for the Windows wheel, this is used to pre-load the\u001b[39;00m\n\u001b[32m     64\u001b[39m \u001b[38;5;66;03m# vcomp shared library runtime for OpenMP embedded in the sklearn/.libs\u001b[39;00m\n\u001b[32m   (...)\u001b[39m\u001b[32m     67\u001b[39m \u001b[38;5;66;03m# later is linked to the OpenMP runtime to make it possible to introspect\u001b[39;00m\n\u001b[32m     68\u001b[39m \u001b[38;5;66;03m# it and importing it first would fail if the OpenMP dll cannot be found.\u001b[39;00m\n\u001b[32m     69\u001b[39m \u001b[38;5;28;01mfrom\u001b[39;00m\u001b[38;5;250m \u001b[39m\u001b[34;01m.\u001b[39;00m\u001b[38;5;250m \u001b[39m\u001b[38;5;28;01mimport\u001b[39;00m (  \u001b[38;5;66;03m# noqa: F401 E402\u001b[39;00m\n\u001b[32m     70\u001b[39m     __check_build,\n\u001b[32m     71\u001b[39m     _distributor_init,\n\u001b[32m     72\u001b[39m )\n\u001b[32m---> \u001b[39m\u001b[32m73\u001b[39m \u001b[38;5;28;01mfrom\u001b[39;00m\u001b[38;5;250m \u001b[39m\u001b[34;01m.\u001b[39;00m\u001b[34;01mbase\u001b[39;00m\u001b[38;5;250m \u001b[39m\u001b[38;5;28;01mimport\u001b[39;00m clone  \u001b[38;5;66;03m# noqa: E402\u001b[39;00m\n\u001b[32m     74\u001b[39m \u001b[38;5;28;01mfrom\u001b[39;00m\u001b[38;5;250m \u001b[39m\u001b[34;01m.\u001b[39;00m\u001b[34;01mutils\u001b[39;00m\u001b[34;01m.\u001b[39;00m\u001b[34;01m_show_versions\u001b[39;00m\u001b[38;5;250m \u001b[39m\u001b[38;5;28;01mimport\u001b[39;00m show_versions  \u001b[38;5;66;03m# noqa: E402\u001b[39;00m\n\u001b[32m     76\u001b[39m _submodules = [\n\u001b[32m     77\u001b[39m     \u001b[33m\"\u001b[39m\u001b[33mcalibration\u001b[39m\u001b[33m\"\u001b[39m,\n\u001b[32m     78\u001b[39m     \u001b[33m\"\u001b[39m\u001b[33mcluster\u001b[39m\u001b[33m\"\u001b[39m,\n\u001b[32m   (...)\u001b[39m\u001b[32m    114\u001b[39m     \u001b[33m\"\u001b[39m\u001b[33mcompose\u001b[39m\u001b[33m\"\u001b[39m,\n\u001b[32m    115\u001b[39m ]\n",
            "\u001b[36mFile \u001b[39m\u001b[32mc:\\Python\\Python311\\Lib\\site-packages\\sklearn\\base.py:19\u001b[39m\n\u001b[32m     17\u001b[39m \u001b[38;5;28;01mfrom\u001b[39;00m\u001b[38;5;250m \u001b[39m\u001b[34;01m.\u001b[39;00m\u001b[34;01m_config\u001b[39;00m\u001b[38;5;250m \u001b[39m\u001b[38;5;28;01mimport\u001b[39;00m config_context, get_config\n\u001b[32m     18\u001b[39m \u001b[38;5;28;01mfrom\u001b[39;00m\u001b[38;5;250m \u001b[39m\u001b[34;01m.\u001b[39;00m\u001b[34;01mexceptions\u001b[39;00m\u001b[38;5;250m \u001b[39m\u001b[38;5;28;01mimport\u001b[39;00m InconsistentVersionWarning\n\u001b[32m---> \u001b[39m\u001b[32m19\u001b[39m \u001b[38;5;28;01mfrom\u001b[39;00m\u001b[38;5;250m \u001b[39m\u001b[34;01m.\u001b[39;00m\u001b[34;01mutils\u001b[39;00m\u001b[34;01m.\u001b[39;00m\u001b[34;01m_metadata_requests\u001b[39;00m\u001b[38;5;250m \u001b[39m\u001b[38;5;28;01mimport\u001b[39;00m _MetadataRequester, _routing_enabled\n\u001b[32m     20\u001b[39m \u001b[38;5;28;01mfrom\u001b[39;00m\u001b[38;5;250m \u001b[39m\u001b[34;01m.\u001b[39;00m\u001b[34;01mutils\u001b[39;00m\u001b[34;01m.\u001b[39;00m\u001b[34;01m_missing\u001b[39;00m\u001b[38;5;250m \u001b[39m\u001b[38;5;28;01mimport\u001b[39;00m is_scalar_nan\n\u001b[32m     21\u001b[39m \u001b[38;5;28;01mfrom\u001b[39;00m\u001b[38;5;250m \u001b[39m\u001b[34;01m.\u001b[39;00m\u001b[34;01mutils\u001b[39;00m\u001b[34;01m.\u001b[39;00m\u001b[34;01m_param_validation\u001b[39;00m\u001b[38;5;250m \u001b[39m\u001b[38;5;28;01mimport\u001b[39;00m validate_parameter_constraints\n",
            "\u001b[36mFile \u001b[39m\u001b[32mc:\\Python\\Python311\\Lib\\site-packages\\sklearn\\utils\\__init__.py:9\u001b[39m\n\u001b[32m      7\u001b[39m \u001b[38;5;28;01mfrom\u001b[39;00m\u001b[38;5;250m \u001b[39m\u001b[34;01m.\u001b[39;00m\u001b[38;5;250m \u001b[39m\u001b[38;5;28;01mimport\u001b[39;00m metadata_routing\n\u001b[32m      8\u001b[39m \u001b[38;5;28;01mfrom\u001b[39;00m\u001b[38;5;250m \u001b[39m\u001b[34;01m.\u001b[39;00m\u001b[34;01m_bunch\u001b[39;00m\u001b[38;5;250m \u001b[39m\u001b[38;5;28;01mimport\u001b[39;00m Bunch\n\u001b[32m----> \u001b[39m\u001b[32m9\u001b[39m \u001b[38;5;28;01mfrom\u001b[39;00m\u001b[38;5;250m \u001b[39m\u001b[34;01m.\u001b[39;00m\u001b[34;01m_chunking\u001b[39;00m\u001b[38;5;250m \u001b[39m\u001b[38;5;28;01mimport\u001b[39;00m gen_batches, gen_even_slices\n\u001b[32m     11\u001b[39m \u001b[38;5;66;03m# Make _safe_indexing importable from here for backward compat as this particular\u001b[39;00m\n\u001b[32m     12\u001b[39m \u001b[38;5;66;03m# helper is considered semi-private and typically very useful for third-party\u001b[39;00m\n\u001b[32m     13\u001b[39m \u001b[38;5;66;03m# libraries that want to comply with scikit-learn's estimator API. In particular,\u001b[39;00m\n\u001b[32m     14\u001b[39m \u001b[38;5;66;03m# _safe_indexing was included in our public API documentation despite the leading\u001b[39;00m\n\u001b[32m     15\u001b[39m \u001b[38;5;66;03m# `_` in its name.\u001b[39;00m\n\u001b[32m     16\u001b[39m \u001b[38;5;28;01mfrom\u001b[39;00m\u001b[38;5;250m \u001b[39m\u001b[34;01m.\u001b[39;00m\u001b[34;01m_indexing\u001b[39;00m\u001b[38;5;250m \u001b[39m\u001b[38;5;28;01mimport\u001b[39;00m (\n\u001b[32m     17\u001b[39m     _safe_indexing,  \u001b[38;5;66;03m# noqa: F401\u001b[39;00m\n\u001b[32m     18\u001b[39m     resample,\n\u001b[32m     19\u001b[39m     shuffle,\n\u001b[32m     20\u001b[39m )\n",
            "\u001b[36mFile \u001b[39m\u001b[32mc:\\Python\\Python311\\Lib\\site-packages\\sklearn\\utils\\_chunking.py:11\u001b[39m\n\u001b[32m      8\u001b[39m \u001b[38;5;28;01mimport\u001b[39;00m\u001b[38;5;250m \u001b[39m\u001b[34;01mnumpy\u001b[39;00m\u001b[38;5;250m \u001b[39m\u001b[38;5;28;01mas\u001b[39;00m\u001b[38;5;250m \u001b[39m\u001b[34;01mnp\u001b[39;00m\n\u001b[32m     10\u001b[39m \u001b[38;5;28;01mfrom\u001b[39;00m\u001b[38;5;250m \u001b[39m\u001b[34;01m.\u001b[39;00m\u001b[34;01m.\u001b[39;00m\u001b[34;01m_config\u001b[39;00m\u001b[38;5;250m \u001b[39m\u001b[38;5;28;01mimport\u001b[39;00m get_config\n\u001b[32m---> \u001b[39m\u001b[32m11\u001b[39m \u001b[38;5;28;01mfrom\u001b[39;00m\u001b[38;5;250m \u001b[39m\u001b[34;01m.\u001b[39;00m\u001b[34;01m_param_validation\u001b[39;00m\u001b[38;5;250m \u001b[39m\u001b[38;5;28;01mimport\u001b[39;00m Interval, validate_params\n\u001b[32m     14\u001b[39m \u001b[38;5;28;01mdef\u001b[39;00m\u001b[38;5;250m \u001b[39m\u001b[34mchunk_generator\u001b[39m(gen, chunksize):\n\u001b[32m     15\u001b[39m \u001b[38;5;250m    \u001b[39m\u001b[33;03m\"\"\"Chunk generator, ``gen`` into lists of length ``chunksize``. The last\u001b[39;00m\n\u001b[32m     16\u001b[39m \u001b[33;03m    chunk may have a length less than ``chunksize``.\"\"\"\u001b[39;00m\n",
            "\u001b[36mFile \u001b[39m\u001b[32mc:\\Python\\Python311\\Lib\\site-packages\\sklearn\\utils\\_param_validation.py:14\u001b[39m\n\u001b[32m     11\u001b[39m \u001b[38;5;28;01mfrom\u001b[39;00m\u001b[38;5;250m \u001b[39m\u001b[34;01mnumbers\u001b[39;00m\u001b[38;5;250m \u001b[39m\u001b[38;5;28;01mimport\u001b[39;00m Integral, Real\n\u001b[32m     13\u001b[39m \u001b[38;5;28;01mimport\u001b[39;00m\u001b[38;5;250m \u001b[39m\u001b[34;01mnumpy\u001b[39;00m\u001b[38;5;250m \u001b[39m\u001b[38;5;28;01mas\u001b[39;00m\u001b[38;5;250m \u001b[39m\u001b[34;01mnp\u001b[39;00m\n\u001b[32m---> \u001b[39m\u001b[32m14\u001b[39m \u001b[38;5;28;01mfrom\u001b[39;00m\u001b[38;5;250m \u001b[39m\u001b[34;01mscipy\u001b[39;00m\u001b[34;01m.\u001b[39;00m\u001b[34;01msparse\u001b[39;00m\u001b[38;5;250m \u001b[39m\u001b[38;5;28;01mimport\u001b[39;00m csr_matrix, issparse\n\u001b[32m     16\u001b[39m \u001b[38;5;28;01mfrom\u001b[39;00m\u001b[38;5;250m \u001b[39m\u001b[34;01m.\u001b[39;00m\u001b[34;01m.\u001b[39;00m\u001b[34;01m_config\u001b[39;00m\u001b[38;5;250m \u001b[39m\u001b[38;5;28;01mimport\u001b[39;00m config_context, get_config\n\u001b[32m     17\u001b[39m \u001b[38;5;28;01mfrom\u001b[39;00m\u001b[38;5;250m \u001b[39m\u001b[34;01m.\u001b[39;00m\u001b[34;01mvalidation\u001b[39;00m\u001b[38;5;250m \u001b[39m\u001b[38;5;28;01mimport\u001b[39;00m _is_arraylike_not_scalar\n",
            "\u001b[36mFile \u001b[39m\u001b[32mc:\\Python\\Python311\\Lib\\site-packages\\scipy\\sparse\\__init__.py:304\u001b[39m\n\u001b[32m    301\u001b[39m \u001b[38;5;28;01mimport\u001b[39;00m\u001b[38;5;250m \u001b[39m\u001b[34;01mwarnings\u001b[39;00m\u001b[38;5;250m \u001b[39m\u001b[38;5;28;01mas\u001b[39;00m\u001b[38;5;250m \u001b[39m\u001b[34;01m_warnings\u001b[39;00m\n\u001b[32m    302\u001b[39m \u001b[38;5;28;01mimport\u001b[39;00m\u001b[38;5;250m \u001b[39m\u001b[34;01mimportlib\u001b[39;00m\u001b[38;5;250m \u001b[39m\u001b[38;5;28;01mas\u001b[39;00m\u001b[38;5;250m \u001b[39m\u001b[34;01m_importlib\u001b[39;00m\n\u001b[32m--> \u001b[39m\u001b[32m304\u001b[39m \u001b[38;5;28;01mfrom\u001b[39;00m\u001b[38;5;250m \u001b[39m\u001b[34;01m.\u001b[39;00m\u001b[34;01m_base\u001b[39;00m\u001b[38;5;250m \u001b[39m\u001b[38;5;28;01mimport\u001b[39;00m *\n\u001b[32m    305\u001b[39m \u001b[38;5;28;01mfrom\u001b[39;00m\u001b[38;5;250m \u001b[39m\u001b[34;01m.\u001b[39;00m\u001b[34;01m_csr\u001b[39;00m\u001b[38;5;250m \u001b[39m\u001b[38;5;28;01mimport\u001b[39;00m *\n\u001b[32m    306\u001b[39m \u001b[38;5;28;01mfrom\u001b[39;00m\u001b[38;5;250m \u001b[39m\u001b[34;01m.\u001b[39;00m\u001b[34;01m_csc\u001b[39;00m\u001b[38;5;250m \u001b[39m\u001b[38;5;28;01mimport\u001b[39;00m *\n",
            "\u001b[36mFile \u001b[39m\u001b[32mc:\\Python\\Python311\\Lib\\site-packages\\scipy\\sparse\\_base.py:8\u001b[39m\n\u001b[32m      5\u001b[39m \u001b[38;5;28;01mimport\u001b[39;00m\u001b[38;5;250m \u001b[39m\u001b[34;01mnumpy\u001b[39;00m\u001b[38;5;250m \u001b[39m\u001b[38;5;28;01mas\u001b[39;00m\u001b[38;5;250m \u001b[39m\u001b[34;01mnp\u001b[39;00m\n\u001b[32m      6\u001b[39m \u001b[38;5;28;01mimport\u001b[39;00m\u001b[38;5;250m \u001b[39m\u001b[34;01moperator\u001b[39;00m\n\u001b[32m----> \u001b[39m\u001b[32m8\u001b[39m \u001b[38;5;28;01mfrom\u001b[39;00m\u001b[38;5;250m \u001b[39m\u001b[34;01m.\u001b[39;00m\u001b[34;01m_sputils\u001b[39;00m\u001b[38;5;250m \u001b[39m\u001b[38;5;28;01mimport\u001b[39;00m (asmatrix, check_reshape_kwargs, check_shape,\n\u001b[32m      9\u001b[39m                        get_sum_dtype, isdense, isscalarlike, _todata,\n\u001b[32m     10\u001b[39m                        matrix, validateaxis, getdtype, is_pydata_spmatrix)\n\u001b[32m     11\u001b[39m \u001b[38;5;28;01mfrom\u001b[39;00m\u001b[38;5;250m \u001b[39m\u001b[34;01mscipy\u001b[39;00m\u001b[34;01m.\u001b[39;00m\u001b[34;01m_lib\u001b[39;00m\u001b[34;01m.\u001b[39;00m\u001b[34;01m_sparse\u001b[39;00m\u001b[38;5;250m \u001b[39m\u001b[38;5;28;01mimport\u001b[39;00m SparseABC, issparse\n\u001b[32m     13\u001b[39m \u001b[38;5;28;01mfrom\u001b[39;00m\u001b[38;5;250m \u001b[39m\u001b[34;01m.\u001b[39;00m\u001b[34;01m_matrix\u001b[39;00m\u001b[38;5;250m \u001b[39m\u001b[38;5;28;01mimport\u001b[39;00m spmatrix\n",
            "\u001b[36mFile \u001b[39m\u001b[32mc:\\Python\\Python311\\Lib\\site-packages\\scipy\\sparse\\_sputils.py:10\u001b[39m\n\u001b[32m      8\u001b[39m \u001b[38;5;28;01mfrom\u001b[39;00m\u001b[38;5;250m \u001b[39m\u001b[34;01mmath\u001b[39;00m\u001b[38;5;250m \u001b[39m\u001b[38;5;28;01mimport\u001b[39;00m prod\n\u001b[32m      9\u001b[39m \u001b[38;5;28;01mimport\u001b[39;00m\u001b[38;5;250m \u001b[39m\u001b[34;01mscipy\u001b[39;00m\u001b[34;01m.\u001b[39;00m\u001b[34;01msparse\u001b[39;00m\u001b[38;5;250m \u001b[39m\u001b[38;5;28;01mas\u001b[39;00m\u001b[38;5;250m \u001b[39m\u001b[34;01msp\u001b[39;00m\n\u001b[32m---> \u001b[39m\u001b[32m10\u001b[39m \u001b[38;5;28;01mfrom\u001b[39;00m\u001b[38;5;250m \u001b[39m\u001b[34;01mscipy\u001b[39;00m\u001b[34;01m.\u001b[39;00m\u001b[34;01m_lib\u001b[39;00m\u001b[34;01m.\u001b[39;00m\u001b[34;01m_util\u001b[39;00m\u001b[38;5;250m \u001b[39m\u001b[38;5;28;01mimport\u001b[39;00m np_long, np_ulong\n\u001b[32m     13\u001b[39m __all__ = [\u001b[33m'\u001b[39m\u001b[33mupcast\u001b[39m\u001b[33m'\u001b[39m, \u001b[33m'\u001b[39m\u001b[33mgetdtype\u001b[39m\u001b[33m'\u001b[39m, \u001b[33m'\u001b[39m\u001b[33mgetdata\u001b[39m\u001b[33m'\u001b[39m, \u001b[33m'\u001b[39m\u001b[33misscalarlike\u001b[39m\u001b[33m'\u001b[39m, \u001b[33m'\u001b[39m\u001b[33misintlike\u001b[39m\u001b[33m'\u001b[39m,\n\u001b[32m     14\u001b[39m            \u001b[33m'\u001b[39m\u001b[33misshape\u001b[39m\u001b[33m'\u001b[39m, \u001b[33m'\u001b[39m\u001b[33missequence\u001b[39m\u001b[33m'\u001b[39m, \u001b[33m'\u001b[39m\u001b[33misdense\u001b[39m\u001b[33m'\u001b[39m, \u001b[33m'\u001b[39m\u001b[33mismatrix\u001b[39m\u001b[33m'\u001b[39m, \u001b[33m'\u001b[39m\u001b[33mget_sum_dtype\u001b[39m\u001b[33m'\u001b[39m,\n\u001b[32m     15\u001b[39m            \u001b[33m'\u001b[39m\u001b[33mbroadcast_shapes\u001b[39m\u001b[33m'\u001b[39m]\n\u001b[32m     17\u001b[39m supported_dtypes = [np.bool_, np.byte, np.ubyte, np.short, np.ushort, np.intc,\n\u001b[32m     18\u001b[39m                     np.uintc, np_long, np_ulong, np.longlong, np.ulonglong,\n\u001b[32m     19\u001b[39m                     np.float32, np.float64, np.longdouble,\n\u001b[32m     20\u001b[39m                     np.complex64, np.complex128, np.clongdouble]\n",
            "\u001b[36mFile \u001b[39m\u001b[32mc:\\Python\\Python311\\Lib\\site-packages\\scipy\\_lib\\_util.py:14\u001b[39m\n\u001b[32m     11\u001b[39m \u001b[38;5;28;01mfrom\u001b[39;00m\u001b[38;5;250m \u001b[39m\u001b[34;01mtyping\u001b[39;00m\u001b[38;5;250m \u001b[39m\u001b[38;5;28;01mimport\u001b[39;00m Literal, TypeAlias, TypeVar\n\u001b[32m     13\u001b[39m \u001b[38;5;28;01mimport\u001b[39;00m\u001b[38;5;250m \u001b[39m\u001b[34;01mnumpy\u001b[39;00m\u001b[38;5;250m \u001b[39m\u001b[38;5;28;01mas\u001b[39;00m\u001b[38;5;250m \u001b[39m\u001b[34;01mnp\u001b[39;00m\n\u001b[32m---> \u001b[39m\u001b[32m14\u001b[39m \u001b[38;5;28;01mfrom\u001b[39;00m\u001b[38;5;250m \u001b[39m\u001b[34;01mscipy\u001b[39;00m\u001b[34;01m.\u001b[39;00m\u001b[34;01m_lib\u001b[39;00m\u001b[34;01m.\u001b[39;00m\u001b[34;01m_array_api\u001b[39;00m\u001b[38;5;250m \u001b[39m\u001b[38;5;28;01mimport\u001b[39;00m (Array, array_namespace, is_lazy_array,\n\u001b[32m     15\u001b[39m                                    is_numpy, is_marray, xp_result_device,\n\u001b[32m     16\u001b[39m                                    xp_size, xp_result_type)\n\u001b[32m     17\u001b[39m \u001b[38;5;28;01mfrom\u001b[39;00m\u001b[38;5;250m \u001b[39m\u001b[34;01mscipy\u001b[39;00m\u001b[34;01m.\u001b[39;00m\u001b[34;01m_lib\u001b[39;00m\u001b[34;01m.\u001b[39;00m\u001b[34;01m_docscrape\u001b[39;00m\u001b[38;5;250m \u001b[39m\u001b[38;5;28;01mimport\u001b[39;00m FunctionDoc, Parameter\n\u001b[32m     18\u001b[39m \u001b[38;5;28;01mfrom\u001b[39;00m\u001b[38;5;250m \u001b[39m\u001b[34;01mscipy\u001b[39;00m\u001b[34;01m.\u001b[39;00m\u001b[34;01m_lib\u001b[39;00m\u001b[34;01m.\u001b[39;00m\u001b[34;01m_sparse\u001b[39;00m\u001b[38;5;250m \u001b[39m\u001b[38;5;28;01mimport\u001b[39;00m issparse\n",
            "\u001b[36mFile \u001b[39m\u001b[32mc:\\Python\\Python311\\Lib\\site-packages\\scipy\\_lib\\_array_api.py:22\u001b[39m\n\u001b[32m     19\u001b[39m \u001b[38;5;28;01mfrom\u001b[39;00m\u001b[38;5;250m \u001b[39m\u001b[34;01mtyping\u001b[39;00m\u001b[38;5;250m \u001b[39m\u001b[38;5;28;01mimport\u001b[39;00m Any, Literal, TypeAlias\n\u001b[32m     21\u001b[39m \u001b[38;5;28;01mimport\u001b[39;00m\u001b[38;5;250m \u001b[39m\u001b[34;01mnumpy\u001b[39;00m\u001b[38;5;250m \u001b[39m\u001b[38;5;28;01mas\u001b[39;00m\u001b[38;5;250m \u001b[39m\u001b[34;01mnp\u001b[39;00m\n\u001b[32m---> \u001b[39m\u001b[32m22\u001b[39m \u001b[38;5;28;01mimport\u001b[39;00m\u001b[38;5;250m \u001b[39m\u001b[34;01mnumpy\u001b[39;00m\u001b[34;01m.\u001b[39;00m\u001b[34;01mtyping\u001b[39;00m\u001b[38;5;250m \u001b[39m\u001b[38;5;28;01mas\u001b[39;00m\u001b[38;5;250m \u001b[39m\u001b[34;01mnpt\u001b[39;00m\n\u001b[32m     24\u001b[39m \u001b[38;5;28;01mfrom\u001b[39;00m\u001b[38;5;250m \u001b[39m\u001b[34;01mscipy\u001b[39;00m\u001b[34;01m.\u001b[39;00m\u001b[34;01m_lib\u001b[39;00m\u001b[38;5;250m \u001b[39m\u001b[38;5;28;01mimport\u001b[39;00m array_api_compat\n\u001b[32m     25\u001b[39m \u001b[38;5;28;01mfrom\u001b[39;00m\u001b[38;5;250m \u001b[39m\u001b[34;01mscipy\u001b[39;00m\u001b[34;01m.\u001b[39;00m\u001b[34;01m_lib\u001b[39;00m\u001b[34;01m.\u001b[39;00m\u001b[34;01marray_api_compat\u001b[39;00m\u001b[38;5;250m \u001b[39m\u001b[38;5;28;01mimport\u001b[39;00m (\n\u001b[32m     26\u001b[39m     is_array_api_obj,\n\u001b[32m     27\u001b[39m     is_lazy_array,\n\u001b[32m   (...)\u001b[39m\u001b[32m     36\u001b[39m     is_array_api_strict_namespace \u001b[38;5;28;01mas\u001b[39;00m is_array_api_strict\n\u001b[32m     37\u001b[39m )\n",
            "\u001b[36mFile \u001b[39m\u001b[32mc:\\Python\\Python311\\Lib\\site-packages\\numpy\\typing\\__init__.py:160\u001b[39m\n\u001b[32m      1\u001b[39m \u001b[33;03m\"\"\"\u001b[39;00m\n\u001b[32m      2\u001b[39m \u001b[33;03m============================\u001b[39;00m\n\u001b[32m      3\u001b[39m \u001b[33;03mTyping (:mod:`numpy.typing`)\u001b[39;00m\n\u001b[32m   (...)\u001b[39m\u001b[32m    153\u001b[39m \n\u001b[32m    154\u001b[39m \u001b[33;03m\"\"\"\u001b[39;00m\n\u001b[32m    155\u001b[39m \u001b[38;5;66;03m# NOTE: The API section will be appended with additional entries\u001b[39;00m\n\u001b[32m    156\u001b[39m \u001b[38;5;66;03m# further down in this file\u001b[39;00m\n\u001b[32m    157\u001b[39m \n\u001b[32m    158\u001b[39m \u001b[38;5;66;03m# pyright: reportDeprecated=false\u001b[39;00m\n\u001b[32m--> \u001b[39m\u001b[32m160\u001b[39m \u001b[38;5;28;01mfrom\u001b[39;00m\u001b[38;5;250m \u001b[39m\u001b[34;01mnumpy\u001b[39;00m\u001b[34;01m.\u001b[39;00m\u001b[34;01m_typing\u001b[39;00m\u001b[38;5;250m \u001b[39m\u001b[38;5;28;01mimport\u001b[39;00m ArrayLike, DTypeLike, NBitBase, NDArray\n\u001b[32m    162\u001b[39m __all__ = [\u001b[33m\"\u001b[39m\u001b[33mArrayLike\u001b[39m\u001b[33m\"\u001b[39m, \u001b[33m\"\u001b[39m\u001b[33mDTypeLike\u001b[39m\u001b[33m\"\u001b[39m, \u001b[33m\"\u001b[39m\u001b[33mNBitBase\u001b[39m\u001b[33m\"\u001b[39m, \u001b[33m\"\u001b[39m\u001b[33mNDArray\u001b[39m\u001b[33m\"\u001b[39m]\n\u001b[32m    165\u001b[39m __DIR = __all__ + [k \u001b[38;5;28;01mfor\u001b[39;00m k \u001b[38;5;129;01min\u001b[39;00m \u001b[38;5;28mglobals\u001b[39m() \u001b[38;5;28;01mif\u001b[39;00m k.startswith(\u001b[33m\"\u001b[39m\u001b[33m__\u001b[39m\u001b[33m\"\u001b[39m) \u001b[38;5;129;01mand\u001b[39;00m k.endswith(\u001b[33m\"\u001b[39m\u001b[33m__\u001b[39m\u001b[33m\"\u001b[39m)]\n",
            "\u001b[36mFile \u001b[39m\u001b[32mc:\\Python\\Python311\\Lib\\site-packages\\numpy\\_typing\\__init__.py:3\u001b[39m\n\u001b[32m      1\u001b[39m \u001b[33;03m\"\"\"Private counterpart of ``numpy.typing``.\"\"\"\u001b[39;00m\n\u001b[32m----> \u001b[39m\u001b[32m3\u001b[39m \u001b[38;5;28;01mfrom\u001b[39;00m\u001b[38;5;250m \u001b[39m\u001b[34;01m.\u001b[39;00m\u001b[34;01m_array_like\u001b[39;00m\u001b[38;5;250m \u001b[39m\u001b[38;5;28;01mimport\u001b[39;00m ArrayLike \u001b[38;5;28;01mas\u001b[39;00m ArrayLike\n\u001b[32m      4\u001b[39m \u001b[38;5;28;01mfrom\u001b[39;00m\u001b[38;5;250m \u001b[39m\u001b[34;01m.\u001b[39;00m\u001b[34;01m_array_like\u001b[39;00m\u001b[38;5;250m \u001b[39m\u001b[38;5;28;01mimport\u001b[39;00m NDArray \u001b[38;5;28;01mas\u001b[39;00m NDArray\n\u001b[32m      5\u001b[39m \u001b[38;5;28;01mfrom\u001b[39;00m\u001b[38;5;250m \u001b[39m\u001b[34;01m.\u001b[39;00m\u001b[34;01m_array_like\u001b[39;00m\u001b[38;5;250m \u001b[39m\u001b[38;5;28;01mimport\u001b[39;00m _ArrayLike \u001b[38;5;28;01mas\u001b[39;00m _ArrayLike\n",
            "\u001b[36mFile \u001b[39m\u001b[32mc:\\Python\\Python311\\Lib\\site-packages\\numpy\\_typing\\_array_like.py:17\u001b[39m\n\u001b[32m     13\u001b[39m     StringDType = np.dtypes.StringDType\n\u001b[32m     14\u001b[39m \u001b[38;5;28;01melse\u001b[39;00m:\n\u001b[32m     15\u001b[39m     \u001b[38;5;66;03m# at runtime outside of type checking importing this from numpy.dtypes\u001b[39;00m\n\u001b[32m     16\u001b[39m     \u001b[38;5;66;03m# would lead to a circular import\u001b[39;00m\n\u001b[32m---> \u001b[39m\u001b[32m17\u001b[39m     \u001b[38;5;28;01mfrom\u001b[39;00m\u001b[38;5;250m \u001b[39m\u001b[34;01mnumpy\u001b[39;00m\u001b[34;01m.\u001b[39;00m\u001b[34;01m_core\u001b[39;00m\u001b[34;01m.\u001b[39;00m\u001b[34;01mmultiarray\u001b[39;00m\u001b[38;5;250m \u001b[39m\u001b[38;5;28;01mimport\u001b[39;00m StringDType\n\u001b[32m     19\u001b[39m _T = TypeVar(\u001b[33m\"\u001b[39m\u001b[33m_T\u001b[39m\u001b[33m\"\u001b[39m)\n\u001b[32m     20\u001b[39m _ScalarT = TypeVar(\u001b[33m\"\u001b[39m\u001b[33m_ScalarT\u001b[39m\u001b[33m\"\u001b[39m, bound=np.generic)\n",
            "\u001b[36mFile \u001b[39m\u001b[32mc:\\Python\\Python311\\Lib\\site-packages\\numpy\\_core\\__init__.py:48\u001b[39m\n\u001b[32m     24\u001b[39m     \u001b[38;5;28;01mimport\u001b[39;00m\u001b[38;5;250m \u001b[39m\u001b[34;01msys\u001b[39;00m\n\u001b[32m     25\u001b[39m     msg = \u001b[33m\"\"\"\u001b[39m\n\u001b[32m     26\u001b[39m \n\u001b[32m     27\u001b[39m \u001b[33mIMPORTANT: PLEASE READ THIS FOR ADVICE ON HOW TO SOLVE THIS ISSUE!\u001b[39m\n\u001b[32m   (...)\u001b[39m\u001b[32m     46\u001b[39m \u001b[33m\"\"\"\u001b[39m % (sys.version_info[\u001b[32m0\u001b[39m], sys.version_info[\u001b[32m1\u001b[39m], sys.executable,\n\u001b[32m     47\u001b[39m         __version__, exc)\n\u001b[32m---> \u001b[39m\u001b[32m48\u001b[39m     \u001b[38;5;28;01mraise\u001b[39;00m \u001b[38;5;167;01mImportError\u001b[39;00m(msg) \u001b[38;5;28;01mfrom\u001b[39;00m\u001b[38;5;250m \u001b[39m\u001b[34;01mexc\u001b[39;00m\n\u001b[32m     49\u001b[39m \u001b[38;5;28;01mfinally\u001b[39;00m:\n\u001b[32m     50\u001b[39m     \u001b[38;5;28;01mfor\u001b[39;00m envkey \u001b[38;5;129;01min\u001b[39;00m env_added:\n",
            "\u001b[31mImportError\u001b[39m: \n\nIMPORTANT: PLEASE READ THIS FOR ADVICE ON HOW TO SOLVE THIS ISSUE!\n\nImporting the numpy C-extensions failed. This error can happen for\nmany reasons, often due to issues with your setup or how NumPy was\ninstalled.\n\nWe have compiled some common reasons and troubleshooting tips at:\n\n    https://numpy.org/devdocs/user/troubleshooting-importerror.html\n\nPlease note and check the following:\n\n  * The Python version is: Python3.11 from \"c:\\Python\\Python311\\python.exe\"\n  * The NumPy version is: \"1.24.3\"\n\nand make sure that they are the versions you expect.\nPlease carefully study the documentation linked above for further help.\n\nOriginal error was: DLL load failed while importing _multiarray_umath: The specified module could not be found.\n"
          ]
        }
      ],
      "source": [
        "import pandas as pd\n",
        "import numpy as np\n",
        "import matplotlib.pyplot as plt\n",
        "import seaborn as sns\n",
        "from sklearn.compose import ColumnTransformer\n",
        "from sklearn.preprocessing import StandardScaler, OneHotEncoder\n",
        "from sklearn.linear_model import LinearRegression\n",
        "from sklearn.tree import DecisionTreeRegressor\n",
        "from sklearn.ensemble import RandomForestRegressor\n",
        "from sklearn.model_selection import train_test_split\n",
        "from sklearn.pipeline import Pipeline\n",
        "from sklearn.metrics import mean_squared_error, r2_score"
      ]
    },
    {
      "cell_type": "code",
      "execution_count": 1,
      "metadata": {
        "id": "uZMcjCpTkAx4"
      },
      "outputs": [
        {
          "ename": "NameError",
          "evalue": "name 'pd' is not defined",
          "output_type": "error",
          "traceback": [
            "\u001b[31m---------------------------------------------------------------------------\u001b[39m",
            "\u001b[31mNameError\u001b[39m                                 Traceback (most recent call last)",
            "\u001b[36mCell\u001b[39m\u001b[36m \u001b[39m\u001b[32mIn[1]\u001b[39m\u001b[32m, line 2\u001b[39m\n\u001b[32m      1\u001b[39m \u001b[38;5;66;03m# Load data\u001b[39;00m\n\u001b[32m----> \u001b[39m\u001b[32m2\u001b[39m df = \u001b[43mpd\u001b[49m.read_csv(\u001b[33m'\u001b[39m\u001b[33mdata/dubizzle_properties_final.csv\u001b[39m\u001b[33m'\u001b[39m)\n\u001b[32m      3\u001b[39m df\n",
            "\u001b[31mNameError\u001b[39m: name 'pd' is not defined"
          ]
        }
      ],
      "source": [
        "# Load data\n",
        "df = pd.read_csv('data/dubizzle_properties_final.csv')\n",
        "df"
      ]
    },
    {
      "cell_type": "markdown",
      "metadata": {
        "id": "ExA4xL1tkbJ_"
      },
      "source": [
        "**Step 1: Clean 'price_omr'**"
      ]
    },
    {
      "cell_type": "code",
      "execution_count": 56,
      "metadata": {
        "id": "5CwPWWR9kc93"
      },
      "outputs": [],
      "source": [
        "df['price_omr'] = df['price_omr'].replace('[^\\d.]', '', regex=True).replace('', np.nan)\n",
        "df['price_omr'] = pd.to_numeric(df['price_omr'], errors='coerce')"
      ]
    },
    {
      "cell_type": "markdown",
      "metadata": {
        "id": "1G-Of9s-ki5T"
      },
      "source": [
        "**Step 2: Strip whitespace from string columns**"
      ]
    },
    {
      "cell_type": "code",
      "execution_count": 57,
      "metadata": {
        "id": "jAVb078skl1z"
      },
      "outputs": [],
      "source": [
        "str_cols = df.select_dtypes(include='object').columns\n",
        "df[str_cols] = df[str_cols].apply(lambda x: x.str.strip())"
      ]
    },
    {
      "cell_type": "markdown",
      "metadata": {
        "id": "1UYS4a9Ekp10"
      },
      "source": [
        "**Step 3: Drop duplicates**"
      ]
    },
    {
      "cell_type": "code",
      "execution_count": 58,
      "metadata": {
        "id": "lX83VQdskrj-"
      },
      "outputs": [],
      "source": [
        "df = df.drop_duplicates()"
      ]
    },
    {
      "cell_type": "markdown",
      "metadata": {
        "id": "gSFsERa-kvuI"
      },
      "source": [
        "**Step 4: Drop rows with missing essential data**"
      ]
    },
    {
      "cell_type": "code",
      "execution_count": 59,
      "metadata": {
        "id": "53hiak-7kzZO"
      },
      "outputs": [],
      "source": [
        "essential_cols = ['price_omr', 'size_sqm']\n",
        "df = df.dropna(subset=essential_cols)"
      ]
    },
    {
      "cell_type": "markdown",
      "metadata": {
        "id": "YPutpvApk3yW"
      },
      "source": [
        "**Step 5: Reset index after cleaning**"
      ]
    },
    {
      "cell_type": "code",
      "execution_count": 60,
      "metadata": {
        "id": "cHuHWc4Sk5VD"
      },
      "outputs": [],
      "source": [
        "df = df.reset_index(drop=True)"
      ]
    },
    {
      "cell_type": "markdown",
      "metadata": {
        "id": "418ieiDuk7eu"
      },
      "source": [
        "**Step 6: Fill or drop remaining missing values**"
      ]
    },
    {
      "cell_type": "code",
      "execution_count": 61,
      "metadata": {
        "id": "d55Mzipuk-eZ"
      },
      "outputs": [],
      "source": [
        "df['bedrooms'] = df['bedrooms'].fillna(df['bedrooms'].median())\n",
        "df['bathrooms'] = df['bathrooms'].fillna(df['bathrooms'].median())"
      ]
    },
    {
      "cell_type": "markdown",
      "metadata": {
        "id": "4cFWteY4lCF9"
      },
      "source": [
        "**Drop non-critical high-missing columns**"
      ]
    },
    {
      "cell_type": "code",
      "execution_count": 62,
      "metadata": {
        "id": "RN8-rKE6lEnT"
      },
      "outputs": [],
      "source": [
        "df = df.drop(columns=['agency'])"
      ]
    },
    {
      "cell_type": "markdown",
      "metadata": {
        "id": "kQTWEJm8ok8u"
      },
      "source": [
        "## 📊 Exploratory Data Analysis (EDA)\n",
        "\n",
        "In this section, we explore:\n",
        "\n",
        "- Distribution of property prices\n",
        "- Sizes and room counts\n",
        "- Pricing patterns across regions\n",
        "- Relationships between key variables\n",
        "\n",
        "EDA helps us identify outliers, trends, and important signals that influence pricing.\n"
      ]
    },
    {
      "cell_type": "markdown",
      "metadata": {
        "id": "ysM8u1USlLWe"
      },
      "source": [
        "**Section 2: Exploratory Data Analysis**"
      ]
    },
    {
      "cell_type": "code",
      "execution_count": 63,
      "metadata": {
        "colab": {
          "base_uri": "https://localhost:8080/",
          "height": 410
        },
        "id": "4YEch5YclPqh",
        "outputId": "aae43cdc-9d86-4914-a712-d4119e284d36"
      },
      "outputs": [
        {
          "data": {
            "image/png": "[encoded data removed]",
            "text/plain": [
              "<Figure size 800x400 with 1 Axes>"
            ]
          },
          "metadata": {},
          "output_type": "display_data"
        }
      ],
      "source": [
        "# Distribution of price\n",
        "plt.figure(figsize=(8,4))\n",
        "sns.histplot(df['price_omr'], bins=30, kde=True)\n",
        "plt.title(\"Distribution of Rental Prices (OMR)\")\n",
        "plt.xlabel(\"Price (OMR)\")\n",
        "plt.ylabel(\"Count\")\n",
        "plt.show()"
      ]
    },
    {
      "cell_type": "code",
      "execution_count": 65,
      "metadata": {
        "colab": {
          "base_uri": "https://localhost:8080/",
          "height": 545
        },
        "id": "tIEl6Uz0kkTe",
        "outputId": "36547976-62db-4479-a436-ab9002e4c096"
      },
      "outputs": [
        {
          "data": {
            "image/png": "[encoded data removed]",
            "text/plain": [
              "<Figure size 1000x600 with 2 Axes>"
            ]
          },
          "metadata": {},
          "output_type": "display_data"
        }
      ],
      "source": [
        "# Correlation heatmap\n",
        "numeric_cols = df.select_dtypes(include=['float64', 'int64']).columns\n",
        "plt.figure(figsize=(10,6))\n",
        "sns.heatmap(df[numeric_cols].corr(), annot=True, cmap='coolwarm')\n",
        "plt.title(\"Correlation Heatmap\")\n",
        "plt.show()\n"
      ]
    },
    {
      "cell_type": "code",
      "execution_count": 66,
      "metadata": {
        "colab": {
          "base_uri": "https://localhost:8080/",
          "height": 407
        },
        "id": "3GrImfKujy60",
        "outputId": "2e01f8c2-1f55-467b-df71-1ecde52f6703"
      },
      "outputs": [],
      "source": [
        "if 'region' in df.columns:\n",
        "    plt.figure(figsize=(10,4))\n",
        "    df['region'].value_counts().plot(kind='bar')\n",
        "    plt.title(\"Listing Count by Region\")\n",
        "    plt.xlabel(\"Region\")\n",
        "    plt.ylabel(\"Count\")\n",
        "    plt.xticks(rotation=45)\n",
        "    plt.tight_layout()\n",
        "    plt.show()"
      ]
    },
    {
      "cell_type": "code",
      "execution_count": 67,
      "metadata": {
        "colab": {
          "base_uri": "https://localhost:8080/",
          "height": 692
        },
        "id": "u4qDA_zBlhG4",
        "outputId": "03e1d5ef-f97e-4bd2-845c-14f511f1e98f"
      },
      "outputs": [
        {
          "name": "stdout",
          "output_type": "stream",
          "text": [
            "\n",
            "Cleaned dataset shape: (261, 8)\n",
            "title           0\n",
            "url             0\n",
            "price_omr       0\n",
            "bedrooms        0\n",
            "bathrooms       0\n",
            "size_sqm        0\n",
            "locality        0\n",
            "listing_date    0\n",
            "dtype: int64\n"
          ]
        },
        {
          "data": {
            "text/html": [
              "<div>\n",
              "<style scoped>\n",
              "    .dataframe tbody tr th:only-of-type {\n",
              "        vertical-align: middle;\n",
              "    }\n",
              "\n",
              "    .dataframe tbody tr th {\n",
              "        vertical-align: top;\n",
              "    }\n",
              "\n",
              "    .dataframe thead th {\n",
              "        text-align: right;\n",
              "    }\n",
              "</style>\n",
              "<table border=\"1\" class=\"dataframe\">\n",
              "  <thead>\n",
              "    <tr style=\"text-align: right;\">\n",
              "      <th></th>\n",
              "      <th>title</th>\n",
              "      <th>url</th>\n",
              "      <th>price_omr</th>\n",
              "      <th>bedrooms</th>\n",
              "      <th>bathrooms</th>\n",
              "      <th>size_sqm</th>\n",
              "      <th>locality</th>\n",
              "      <th>listing_date</th>\n",
              "    </tr>\n",
              "  </thead>\n",
              "  <tbody>\n",
              "    <tr>\n",
              "      <th>0</th>\n",
              "      <td>5 BR Spacious Villa in Azaiba Nearby Amenities</td>\n",
              "      <td>https://www.dubizzle.com.om/en/ad/5-br-spaciou...</td>\n",
              "      <td>197000.0</td>\n",
              "      <td>5.0</td>\n",
              "      <td>4.0</td>\n",
              "      <td>600.0</td>\n",
              "      <td>Azaiba, Muscat</td>\n",
              "      <td>5 hours ago</td>\n",
              "    </tr>\n",
              "    <tr>\n",
              "      <th>1</th>\n",
              "      <td>Two Bedroom Seaview Apartment at Mandarin Orie...</td>\n",
              "      <td>https://www.dubizzle.com.om/en/ad/two-bedroom-...</td>\n",
              "      <td>405000.0</td>\n",
              "      <td>2.0</td>\n",
              "      <td>3.0</td>\n",
              "      <td>131.0</td>\n",
              "      <td>Qurum, Muscat</td>\n",
              "      <td>1 day ago</td>\n",
              "    </tr>\n",
              "    <tr>\n",
              "      <th>2</th>\n",
              "      <td>Villa for Sale (Garden) - Sea View</td>\n",
              "      <td>https://www.dubizzle.com.om/en/ad/villa-for-sa...</td>\n",
              "      <td>517000.0</td>\n",
              "      <td>4.0</td>\n",
              "      <td>6.0</td>\n",
              "      <td>506.0</td>\n",
              "      <td>Yiti, Muscat</td>\n",
              "      <td>1 day ago</td>\n",
              "    </tr>\n",
              "    <tr>\n",
              "      <th>3</th>\n",
              "      <td>Elegant 4 BHK Villa for rent @ Qurum</td>\n",
              "      <td>https://www.dubizzle.com.om/en/ad/elegant-4-bh...</td>\n",
              "      <td>650.0</td>\n",
              "      <td>4.0</td>\n",
              "      <td>5.0</td>\n",
              "      <td>300.0</td>\n",
              "      <td>Qurum, Muscat</td>\n",
              "      <td>6 minutes ago</td>\n",
              "    </tr>\n",
              "    <tr>\n",
              "      <th>4</th>\n",
              "      <td>ANSAB | 8 BEDROOM VILLA</td>\n",
              "      <td>https://www.dubizzle.com.om/en/ad/ansab-8-bedr...</td>\n",
              "      <td>400.0</td>\n",
              "      <td>8.0</td>\n",
              "      <td>9.0</td>\n",
              "      <td>300.0</td>\n",
              "      <td>Ansab, Muscat</td>\n",
              "      <td>11 minutes ago</td>\n",
              "    </tr>\n",
              "  </tbody>\n",
              "</table>\n",
              "</div>"
            ],
            "text/plain": [
              "                                               title  \\\n",
              "0     5 BR Spacious Villa in Azaiba Nearby Amenities   \n",
              "1  Two Bedroom Seaview Apartment at Mandarin Orie...   \n",
              "2                 Villa for Sale (Garden) - Sea View   \n",
              "3               Elegant 4 BHK Villa for rent @ Qurum   \n",
              "4                            ANSAB | 8 BEDROOM VILLA   \n",
              "\n",
              "                                                 url  price_omr  bedrooms  \\\n",
              "0  https://www.dubizzle.com.om/en/ad/5-br-spaciou...   197000.0       5.0   \n",
              "1  https://www.dubizzle.com.om/en/ad/two-bedroom-...   405000.0       2.0   \n",
              "2  https://www.dubizzle.com.om/en/ad/villa-for-sa...   517000.0       4.0   \n",
              "3  https://www.dubizzle.com.om/en/ad/elegant-4-bh...      650.0       4.0   \n",
              "4  https://www.dubizzle.com.om/en/ad/ansab-8-bedr...      400.0       8.0   \n",
              "\n",
              "   bathrooms  size_sqm        locality    listing_date  \n",
              "0        4.0     600.0  Azaiba, Muscat     5 hours ago  \n",
              "1        3.0     131.0   Qurum, Muscat       1 day ago  \n",
              "2        6.0     506.0    Yiti, Muscat       1 day ago  \n",
              "3        5.0     300.0   Qurum, Muscat   6 minutes ago  \n",
              "4        9.0     300.0   Ansab, Muscat  11 minutes ago  "
            ]
          },
          "execution_count": 67,
          "metadata": {},
          "output_type": "execute_result"
        }
      ],
      "source": [
        "# Summary of Cleaned Dataset\n",
        "print(\"\\nCleaned dataset shape:\", df.shape)\n",
        "print(df.isnull().sum())\n",
        "df.head()"
      ]
    },
    {
      "cell_type": "markdown",
      "metadata": {
        "id": "5X00PUFIorWL"
      },
      "source": [
        "##  Feature Engineering\n",
        "\n",
        "To improve model performance, we create new features and transform existing ones. This includes:\n",
        "\n",
        "- Total number of rooms\n",
        "- Price per square meter\n",
        "- Encoding categorical variables\n",
        "- Scaling numerical features\n",
        "\n",
        "These steps help the model better understand patterns and reduce bias from raw input values.\n"
      ]
    },
    {
      "cell_type": "markdown",
      "metadata": {
        "id": "2Hqaw3Inl82k"
      },
      "source": [
        "**Step 3: Feature Engineering**"
      ]
    },
    {
      "cell_type": "code",
      "execution_count": 68,
      "metadata": {
        "id": "u6tmLKG1l-G2"
      },
      "outputs": [],
      "source": [
        "df['total_rooms'] = df['bedrooms'] + df['bathrooms']\n",
        "df['price_per_sqm'] = df['price_omr'] / df['size_sqm']"
      ]
    },
    {
      "cell_type": "code",
      "execution_count": 69,
      "metadata": {
        "colab": {
          "base_uri": "https://localhost:8080/"
        },
        "id": "3iTnyJEfmBCE",
        "outputId": "1feb0ece-a162-49d5-8243-6ab8346e56ac"
      },
      "outputs": [
        {
          "name": "stderr",
          "output_type": "stream",
          "text": [
            "C:\\Users\\bbuser\\AppData\\Local\\Temp\\ipykernel_24296\\493396842.py:2: FutureWarning: A value is trying to be set on a copy of a DataFrame or Series through chained assignment using an inplace method.\n",
            "The behavior will change in pandas 3.0. This inplace method will never work because the intermediate object on which we are setting values always behaves as a copy.\n",
            "\n",
            "For example, when doing 'df[col].method(value, inplace=True)', try using 'df.method({col: value}, inplace=True)' or df[col] = df[col].method(value) instead, to perform the operation inplace on the original object.\n",
            "\n",
            "\n",
            "  df['price_per_sqm'].replace([np.inf, -np.inf], np.nan, inplace=True)\n",
            "C:\\Users\\bbuser\\AppData\\Local\\Temp\\ipykernel_24296\\493396842.py:3: FutureWarning: A value is trying to be set on a copy of a DataFrame or Series through chained assignment using an inplace method.\n",
            "The behavior will change in pandas 3.0. This inplace method will never work because the intermediate object on which we are setting values always behaves as a copy.\n",
            "\n",
            "For example, when doing 'df[col].method(value, inplace=True)', try using 'df.method({col: value}, inplace=True)' or df[col] = df[col].method(value) instead, to perform the operation inplace on the original object.\n",
            "\n",
            "\n",
            "  df['price_per_sqm'].fillna(df['price_per_sqm'].median(), inplace=True)\n"
          ]
        }
      ],
      "source": [
        "# Fill any inf or NaN from division\n",
        "df['price_per_sqm'].replace([np.inf, -np.inf], np.nan, inplace=True)\n",
        "df['price_per_sqm'].fillna(df['price_per_sqm'].median(), inplace=True)"
      ]
    },
    {
      "cell_type": "code",
      "execution_count": 70,
      "metadata": {},
      "outputs": [
        {
          "data": {
            "text/html": [
              "<div>\n",
              "<style scoped>\n",
              "    .dataframe tbody tr th:only-of-type {\n",
              "        vertical-align: middle;\n",
              "    }\n",
              "\n",
              "    .dataframe tbody tr th {\n",
              "        vertical-align: top;\n",
              "    }\n",
              "\n",
              "    .dataframe thead th {\n",
              "        text-align: right;\n",
              "    }\n",
              "</style>\n",
              "<table border=\"1\" class=\"dataframe\">\n",
              "  <thead>\n",
              "    <tr style=\"text-align: right;\">\n",
              "      <th></th>\n",
              "      <th>title</th>\n",
              "      <th>url</th>\n",
              "      <th>price_omr</th>\n",
              "      <th>bedrooms</th>\n",
              "      <th>bathrooms</th>\n",
              "      <th>size_sqm</th>\n",
              "      <th>locality</th>\n",
              "      <th>listing_date</th>\n",
              "      <th>total_rooms</th>\n",
              "      <th>price_per_sqm</th>\n",
              "    </tr>\n",
              "  </thead>\n",
              "  <tbody>\n",
              "    <tr>\n",
              "      <th>0</th>\n",
              "      <td>5 BR Spacious Villa in Azaiba Nearby Amenities</td>\n",
              "      <td>https://www.dubizzle.com.om/en/ad/5-br-spaciou...</td>\n",
              "      <td>197000.0</td>\n",
              "      <td>5.0</td>\n",
              "      <td>4.0</td>\n",
              "      <td>600.0</td>\n",
              "      <td>Azaiba, Muscat</td>\n",
              "      <td>5 hours ago</td>\n",
              "      <td>9.0</td>\n",
              "      <td>328.333333</td>\n",
              "    </tr>\n",
              "    <tr>\n",
              "      <th>1</th>\n",
              "      <td>Two Bedroom Seaview Apartment at Mandarin Orie...</td>\n",
              "      <td>https://www.dubizzle.com.om/en/ad/two-bedroom-...</td>\n",
              "      <td>405000.0</td>\n",
              "      <td>2.0</td>\n",
              "      <td>3.0</td>\n",
              "      <td>131.0</td>\n",
              "      <td>Qurum, Muscat</td>\n",
              "      <td>1 day ago</td>\n",
              "      <td>5.0</td>\n",
              "      <td>3091.603053</td>\n",
              "    </tr>\n",
              "    <tr>\n",
              "      <th>2</th>\n",
              "      <td>Villa for Sale (Garden) - Sea View</td>\n",
              "      <td>https://www.dubizzle.com.om/en/ad/villa-for-sa...</td>\n",
              "      <td>517000.0</td>\n",
              "      <td>4.0</td>\n",
              "      <td>6.0</td>\n",
              "      <td>506.0</td>\n",
              "      <td>Yiti, Muscat</td>\n",
              "      <td>1 day ago</td>\n",
              "      <td>10.0</td>\n",
              "      <td>1021.739130</td>\n",
              "    </tr>\n",
              "    <tr>\n",
              "      <th>3</th>\n",
              "      <td>Elegant 4 BHK Villa for rent @ Qurum</td>\n",
              "      <td>https://www.dubizzle.com.om/en/ad/elegant-4-bh...</td>\n",
              "      <td>650.0</td>\n",
              "      <td>4.0</td>\n",
              "      <td>5.0</td>\n",
              "      <td>300.0</td>\n",
              "      <td>Qurum, Muscat</td>\n",
              "      <td>6 minutes ago</td>\n",
              "      <td>9.0</td>\n",
              "      <td>2.166667</td>\n",
              "    </tr>\n",
              "    <tr>\n",
              "      <th>4</th>\n",
              "      <td>ANSAB | 8 BEDROOM VILLA</td>\n",
              "      <td>https://www.dubizzle.com.om/en/ad/ansab-8-bedr...</td>\n",
              "      <td>400.0</td>\n",
              "      <td>8.0</td>\n",
              "      <td>9.0</td>\n",
              "      <td>300.0</td>\n",
              "      <td>Ansab, Muscat</td>\n",
              "      <td>11 minutes ago</td>\n",
              "      <td>17.0</td>\n",
              "      <td>1.333333</td>\n",
              "    </tr>\n",
              "  </tbody>\n",
              "</table>\n",
              "</div>"
            ],
            "text/plain": [
              "                                               title  \\\n",
              "0     5 BR Spacious Villa in Azaiba Nearby Amenities   \n",
              "1  Two Bedroom Seaview Apartment at Mandarin Orie...   \n",
              "2                 Villa for Sale (Garden) - Sea View   \n",
              "3               Elegant 4 BHK Villa for rent @ Qurum   \n",
              "4                            ANSAB | 8 BEDROOM VILLA   \n",
              "\n",
              "                                                 url  price_omr  bedrooms  \\\n",
              "0  https://www.dubizzle.com.om/en/ad/5-br-spaciou...   197000.0       5.0   \n",
              "1  https://www.dubizzle.com.om/en/ad/two-bedroom-...   405000.0       2.0   \n",
              "2  https://www.dubizzle.com.om/en/ad/villa-for-sa...   517000.0       4.0   \n",
              "3  https://www.dubizzle.com.om/en/ad/elegant-4-bh...      650.0       4.0   \n",
              "4  https://www.dubizzle.com.om/en/ad/ansab-8-bedr...      400.0       8.0   \n",
              "\n",
              "   bathrooms  size_sqm        locality    listing_date  total_rooms  \\\n",
              "0        4.0     600.0  Azaiba, Muscat     5 hours ago          9.0   \n",
              "1        3.0     131.0   Qurum, Muscat       1 day ago          5.0   \n",
              "2        6.0     506.0    Yiti, Muscat       1 day ago         10.0   \n",
              "3        5.0     300.0   Qurum, Muscat   6 minutes ago          9.0   \n",
              "4        9.0     300.0   Ansab, Muscat  11 minutes ago         17.0   \n",
              "\n",
              "   price_per_sqm  \n",
              "0     328.333333  \n",
              "1    3091.603053  \n",
              "2    1021.739130  \n",
              "3       2.166667  \n",
              "4       1.333333  "
            ]
          },
          "execution_count": 70,
          "metadata": {},
          "output_type": "execute_result"
        }
      ],
      "source": [
        "df.head(5)"
      ]
    },
    {
      "cell_type": "markdown",
      "metadata": {
        "id": "wjfkaK2eovxl"
      },
      "source": [
        "##  Predictive Modeling\n",
        "\n",
        "The objective here is to build regression models to predict the target variable: **`price_omr`**.\n",
        "\n",
        "We will:\n",
        "\n",
        "- Split the dataset into training and test sets\n",
        "- Use `StandardScaler` and `OneHotEncoder` for preprocessing\n",
        "- Train and evaluate three models:\n",
        "  - Linear Regression\n",
        "  - Decision Tree Regressor\n",
        "  - Random Forest Regressor\n",
        "- Measure performance using:\n",
        "  - RMSE (Root Mean Squared Error)\n",
        "  - R² Score (Coefficient of Determination)\n"
      ]
    },
    {
      "cell_type": "markdown",
      "metadata": {
        "id": "ya_a19o3mJ3s"
      },
      "source": [
        "**Step 4: Predictive Modeling**"
      ]
    },
    {
      "cell_type": "code",
      "execution_count": 79,
      "metadata": {
        "id": "6fRY56RbmLjv"
      },
      "outputs": [],
      "source": [
        "df = df.rename(columns={'locality':'region'})\n",
        "\n",
        "# Objective: Predict 'price_omr'\n",
        "feature_cols = [\n",
        "    'size_sqm',\n",
        "    'bedrooms',\n",
        "    'bathrooms',\n",
        "    'total_rooms',\n",
        "    'price_per_sqm',\n",
        "    'region'         # replace “region” with your scraped locality\n",
        "]\n",
        "\n",
        "X = df[feature_cols]\n",
        "y = df['price_omr']\n"
      ]
    },
    {
      "cell_type": "code",
      "execution_count": 80,
      "metadata": {
        "id": "JzzPO9xQmF-9"
      },
      "outputs": [],
      "source": [
        "# Preprocessing pipeline\n",
        "numeric_features = ['size_sqm', 'bedrooms', 'bathrooms', 'total_rooms', 'price_per_sqm']\n",
        "categorical_features = ['region']"
      ]
    },
    {
      "cell_type": "code",
      "execution_count": 81,
      "metadata": {
        "id": "jQ-yb_8WmYlI"
      },
      "outputs": [],
      "source": [
        "preprocessor = ColumnTransformer([\n",
        "    ('num', StandardScaler(), numeric_features),\n",
        "    ('cat', OneHotEncoder(handle_unknown='ignore'), categorical_features)\n",
        "])"
      ]
    },
    {
      "cell_type": "code",
      "execution_count": 82,
      "metadata": {
        "id": "rPTtuqgZmjGp"
      },
      "outputs": [],
      "source": [
        "# Models to train\n",
        "models = {\n",
        "    \"Linear Regression\": LinearRegression(),\n",
        "    \"Decision Tree\": DecisionTreeRegressor(random_state=42),\n",
        "    \"Random Forest\": RandomForestRegressor(random_state=42)\n",
        "}"
      ]
    },
    {
      "cell_type": "code",
      "execution_count": 83,
      "metadata": {
        "id": "_aHO8l6bmpnL"
      },
      "outputs": [],
      "source": [
        "# Train-test split\n",
        "X_train, X_test, y_train, y_test = train_test_split(X, y, test_size=0.2, random_state=42)"
      ]
    },
    {
      "cell_type": "code",
      "execution_count": 84,
      "metadata": {},
      "outputs": [
        {
          "data": {
            "text/html": [
              "<div>\n",
              "<style scoped>\n",
              "    .dataframe tbody tr th:only-of-type {\n",
              "        vertical-align: middle;\n",
              "    }\n",
              "\n",
              "    .dataframe tbody tr th {\n",
              "        vertical-align: top;\n",
              "    }\n",
              "\n",
              "    .dataframe thead th {\n",
              "        text-align: right;\n",
              "    }\n",
              "</style>\n",
              "<table border=\"1\" class=\"dataframe\">\n",
              "  <thead>\n",
              "    <tr style=\"text-align: right;\">\n",
              "      <th></th>\n",
              "      <th>title</th>\n",
              "      <th>url</th>\n",
              "      <th>price_omr</th>\n",
              "      <th>bedrooms</th>\n",
              "      <th>bathrooms</th>\n",
              "      <th>size_sqm</th>\n",
              "      <th>region</th>\n",
              "      <th>listing_date</th>\n",
              "      <th>total_rooms</th>\n",
              "      <th>price_per_sqm</th>\n",
              "    </tr>\n",
              "  </thead>\n",
              "  <tbody>\n",
              "    <tr>\n",
              "      <th>0</th>\n",
              "      <td>5 BR Spacious Villa in Azaiba Nearby Amenities</td>\n",
              "      <td>https://www.dubizzle.com.om/en/ad/5-br-spaciou...</td>\n",
              "      <td>197000.0</td>\n",
              "      <td>5.0</td>\n",
              "      <td>4.0</td>\n",
              "      <td>600.0</td>\n",
              "      <td>Azaiba, Muscat</td>\n",
              "      <td>5 hours ago</td>\n",
              "      <td>9.0</td>\n",
              "      <td>328.333333</td>\n",
              "    </tr>\n",
              "    <tr>\n",
              "      <th>1</th>\n",
              "      <td>Two Bedroom Seaview Apartment at Mandarin Orie...</td>\n",
              "      <td>https://www.dubizzle.com.om/en/ad/two-bedroom-...</td>\n",
              "      <td>405000.0</td>\n",
              "      <td>2.0</td>\n",
              "      <td>3.0</td>\n",
              "      <td>131.0</td>\n",
              "      <td>Qurum, Muscat</td>\n",
              "      <td>1 day ago</td>\n",
              "      <td>5.0</td>\n",
              "      <td>3091.603053</td>\n",
              "    </tr>\n",
              "    <tr>\n",
              "      <th>2</th>\n",
              "      <td>Villa for Sale (Garden) - Sea View</td>\n",
              "      <td>https://www.dubizzle.com.om/en/ad/villa-for-sa...</td>\n",
              "      <td>517000.0</td>\n",
              "      <td>4.0</td>\n",
              "      <td>6.0</td>\n",
              "      <td>506.0</td>\n",
              "      <td>Yiti, Muscat</td>\n",
              "      <td>1 day ago</td>\n",
              "      <td>10.0</td>\n",
              "      <td>1021.739130</td>\n",
              "    </tr>\n",
              "    <tr>\n",
              "      <th>3</th>\n",
              "      <td>Elegant 4 BHK Villa for rent @ Qurum</td>\n",
              "      <td>https://www.dubizzle.com.om/en/ad/elegant-4-bh...</td>\n",
              "      <td>650.0</td>\n",
              "      <td>4.0</td>\n",
              "      <td>5.0</td>\n",
              "      <td>300.0</td>\n",
              "      <td>Qurum, Muscat</td>\n",
              "      <td>6 minutes ago</td>\n",
              "      <td>9.0</td>\n",
              "      <td>2.166667</td>\n",
              "    </tr>\n",
              "    <tr>\n",
              "      <th>4</th>\n",
              "      <td>ANSAB | 8 BEDROOM VILLA</td>\n",
              "      <td>https://www.dubizzle.com.om/en/ad/ansab-8-bedr...</td>\n",
              "      <td>400.0</td>\n",
              "      <td>8.0</td>\n",
              "      <td>9.0</td>\n",
              "      <td>300.0</td>\n",
              "      <td>Ansab, Muscat</td>\n",
              "      <td>11 minutes ago</td>\n",
              "      <td>17.0</td>\n",
              "      <td>1.333333</td>\n",
              "    </tr>\n",
              "  </tbody>\n",
              "</table>\n",
              "</div>"
            ],
            "text/plain": [
              "                                               title  \\\n",
              "0     5 BR Spacious Villa in Azaiba Nearby Amenities   \n",
              "1  Two Bedroom Seaview Apartment at Mandarin Orie...   \n",
              "2                 Villa for Sale (Garden) - Sea View   \n",
              "3               Elegant 4 BHK Villa for rent @ Qurum   \n",
              "4                            ANSAB | 8 BEDROOM VILLA   \n",
              "\n",
              "                                                 url  price_omr  bedrooms  \\\n",
              "0  https://www.dubizzle.com.om/en/ad/5-br-spaciou...   197000.0       5.0   \n",
              "1  https://www.dubizzle.com.om/en/ad/two-bedroom-...   405000.0       2.0   \n",
              "2  https://www.dubizzle.com.om/en/ad/villa-for-sa...   517000.0       4.0   \n",
              "3  https://www.dubizzle.com.om/en/ad/elegant-4-bh...      650.0       4.0   \n",
              "4  https://www.dubizzle.com.om/en/ad/ansab-8-bedr...      400.0       8.0   \n",
              "\n",
              "   bathrooms  size_sqm          region    listing_date  total_rooms  \\\n",
              "0        4.0     600.0  Azaiba, Muscat     5 hours ago          9.0   \n",
              "1        3.0     131.0   Qurum, Muscat       1 day ago          5.0   \n",
              "2        6.0     506.0    Yiti, Muscat       1 day ago         10.0   \n",
              "3        5.0     300.0   Qurum, Muscat   6 minutes ago          9.0   \n",
              "4        9.0     300.0   Ansab, Muscat  11 minutes ago         17.0   \n",
              "\n",
              "   price_per_sqm  \n",
              "0     328.333333  \n",
              "1    3091.603053  \n",
              "2    1021.739130  \n",
              "3       2.166667  \n",
              "4       1.333333  "
            ]
          },
          "execution_count": 84,
          "metadata": {},
          "output_type": "execute_result"
        }
      ],
      "source": [
        "df.head()"
      ]
    },
    {
      "cell_type": "code",
      "execution_count": 85,
      "metadata": {
        "colab": {
          "base_uri": "https://localhost:8080/"
        },
        "id": "4WKSIDC5mvNJ",
        "outputId": "b4f742b8-ce79-459d-d61d-810ff39df671"
      },
      "outputs": [
        {
          "name": "stdout",
          "output_type": "stream",
          "text": [
            "Model: Linear Regression\n",
            "  RMSE:    77163.54\n",
            "  R² Score:0.48\n",
            "\n",
            "Model: Decision Tree\n",
            "  RMSE:    28673.73\n",
            "  R² Score:0.93\n",
            "\n",
            "Model: Random Forest\n",
            "  RMSE:    14572.03\n",
            "  R² Score:0.98\n",
            "\n"
          ]
        }
      ],
      "source": [
        "# Train and evaluate\n",
        "for name, model in models.items():\n",
        "    pipeline = Pipeline(steps=[\n",
        "        ('preprocessor', preprocessor),\n",
        "        ('regressor',    model)\n",
        "    ])\n",
        "    pipeline.fit(X_train, y_train)\n",
        "    y_pred = pipeline.predict(X_test)\n",
        "\n",
        "    rmse = np.sqrt(mean_squared_error(y_test, y_pred))\n",
        "    r2   = r2_score(y_test, y_pred)\n",
        "\n",
        "    print(f\"Model: {name}\")\n",
        "    print(f\"  RMSE:    {rmse:.2f}\")\n",
        "    print(f\"  R² Score:{r2:.2f}\\n\")"
      ]
    },
    {
      "cell_type": "markdown",
      "metadata": {
        "id": "FJg1ZmIwo1HE"
      },
      "source": [
        "###  Final Note:\n",
        "\n",
        "This project was completed in just two days and remains a work in progress. Much more development is required, and many challenges lie ahead.\n",
        "Although guidelines advised against external assistance, the reality is that under tight deadlines and pressure, collaboration becomes essential.\n",
        "Colleagues and online resources provided invaluable support, and this code reflects what I was able to achieve with their help."
      ]
    }
  ],
  "metadata": {
    "colab": {
      "provenance": []
    },
    "kernelspec": {
      "display_name": "Python 3",
      "language": "python",
      "name": "python3"
    },
    "language_info": {
      "codemirror_mode": {
        "name": "ipython",
        "version": 3
      },
      "file_extension": ".py",
      "mimetype": "text/x-python",
      "name": "python",
      "nbconvert_exporter": "python",
      "pygments_lexer": "ipython3",
      "version": "3.11.3"
    }
  },
  "nbformat": 4,
  "nbformat_minor": 0
}
